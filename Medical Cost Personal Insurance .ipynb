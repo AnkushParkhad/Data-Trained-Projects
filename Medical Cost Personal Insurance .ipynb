{
 "cells": [
  {
   "cell_type": "code",
   "execution_count": 2,
   "id": "943c0cc1",
   "metadata": {},
   "outputs": [],
   "source": [
    "import pandas as pd\n",
    "import numpy as np\n",
    "import matplotlib.pyplot as plt\n",
    "import seaborn as sns\n",
    "import sklearn\n",
    "import warnings\n",
    "warnings.filterwarnings('ignore')\n",
    "\n",
    "from sklearn.linear_model import LinearRegression\n",
    "from sklearn.metrics import mean_squared_error,mean_absolute_error,r2_score\n",
    "\n",
    "from sklearn.model_selection import train_test_split"
   ]
  },
  {
   "cell_type": "code",
   "execution_count": 3,
   "id": "bbf74e0a",
   "metadata": {},
   "outputs": [
    {
     "data": {
      "text/html": [
       "<div>\n",
       "<style scoped>\n",
       "    .dataframe tbody tr th:only-of-type {\n",
       "        vertical-align: middle;\n",
       "    }\n",
       "\n",
       "    .dataframe tbody tr th {\n",
       "        vertical-align: top;\n",
       "    }\n",
       "\n",
       "    .dataframe thead th {\n",
       "        text-align: right;\n",
       "    }\n",
       "</style>\n",
       "<table border=\"1\" class=\"dataframe\">\n",
       "  <thead>\n",
       "    <tr style=\"text-align: right;\">\n",
       "      <th></th>\n",
       "      <th>age</th>\n",
       "      <th>sex</th>\n",
       "      <th>bmi</th>\n",
       "      <th>children</th>\n",
       "      <th>smoker</th>\n",
       "      <th>region</th>\n",
       "      <th>charges</th>\n",
       "    </tr>\n",
       "  </thead>\n",
       "  <tbody>\n",
       "    <tr>\n",
       "      <th>0</th>\n",
       "      <td>19</td>\n",
       "      <td>female</td>\n",
       "      <td>27.900</td>\n",
       "      <td>0</td>\n",
       "      <td>yes</td>\n",
       "      <td>southwest</td>\n",
       "      <td>16884.92400</td>\n",
       "    </tr>\n",
       "    <tr>\n",
       "      <th>1</th>\n",
       "      <td>18</td>\n",
       "      <td>male</td>\n",
       "      <td>33.770</td>\n",
       "      <td>1</td>\n",
       "      <td>no</td>\n",
       "      <td>southeast</td>\n",
       "      <td>1725.55230</td>\n",
       "    </tr>\n",
       "    <tr>\n",
       "      <th>2</th>\n",
       "      <td>28</td>\n",
       "      <td>male</td>\n",
       "      <td>33.000</td>\n",
       "      <td>3</td>\n",
       "      <td>no</td>\n",
       "      <td>southeast</td>\n",
       "      <td>4449.46200</td>\n",
       "    </tr>\n",
       "    <tr>\n",
       "      <th>3</th>\n",
       "      <td>33</td>\n",
       "      <td>male</td>\n",
       "      <td>22.705</td>\n",
       "      <td>0</td>\n",
       "      <td>no</td>\n",
       "      <td>northwest</td>\n",
       "      <td>21984.47061</td>\n",
       "    </tr>\n",
       "    <tr>\n",
       "      <th>4</th>\n",
       "      <td>32</td>\n",
       "      <td>male</td>\n",
       "      <td>28.880</td>\n",
       "      <td>0</td>\n",
       "      <td>no</td>\n",
       "      <td>northwest</td>\n",
       "      <td>3866.85520</td>\n",
       "    </tr>\n",
       "    <tr>\n",
       "      <th>...</th>\n",
       "      <td>...</td>\n",
       "      <td>...</td>\n",
       "      <td>...</td>\n",
       "      <td>...</td>\n",
       "      <td>...</td>\n",
       "      <td>...</td>\n",
       "      <td>...</td>\n",
       "    </tr>\n",
       "    <tr>\n",
       "      <th>1333</th>\n",
       "      <td>50</td>\n",
       "      <td>male</td>\n",
       "      <td>30.970</td>\n",
       "      <td>3</td>\n",
       "      <td>no</td>\n",
       "      <td>northwest</td>\n",
       "      <td>10600.54830</td>\n",
       "    </tr>\n",
       "    <tr>\n",
       "      <th>1334</th>\n",
       "      <td>18</td>\n",
       "      <td>female</td>\n",
       "      <td>31.920</td>\n",
       "      <td>0</td>\n",
       "      <td>no</td>\n",
       "      <td>northeast</td>\n",
       "      <td>2205.98080</td>\n",
       "    </tr>\n",
       "    <tr>\n",
       "      <th>1335</th>\n",
       "      <td>18</td>\n",
       "      <td>female</td>\n",
       "      <td>36.850</td>\n",
       "      <td>0</td>\n",
       "      <td>no</td>\n",
       "      <td>southeast</td>\n",
       "      <td>1629.83350</td>\n",
       "    </tr>\n",
       "    <tr>\n",
       "      <th>1336</th>\n",
       "      <td>21</td>\n",
       "      <td>female</td>\n",
       "      <td>25.800</td>\n",
       "      <td>0</td>\n",
       "      <td>no</td>\n",
       "      <td>southwest</td>\n",
       "      <td>2007.94500</td>\n",
       "    </tr>\n",
       "    <tr>\n",
       "      <th>1337</th>\n",
       "      <td>61</td>\n",
       "      <td>female</td>\n",
       "      <td>29.070</td>\n",
       "      <td>0</td>\n",
       "      <td>yes</td>\n",
       "      <td>northwest</td>\n",
       "      <td>29141.36030</td>\n",
       "    </tr>\n",
       "  </tbody>\n",
       "</table>\n",
       "<p>1338 rows × 7 columns</p>\n",
       "</div>"
      ],
      "text/plain": [
       "      age     sex     bmi  children smoker     region      charges\n",
       "0      19  female  27.900         0    yes  southwest  16884.92400\n",
       "1      18    male  33.770         1     no  southeast   1725.55230\n",
       "2      28    male  33.000         3     no  southeast   4449.46200\n",
       "3      33    male  22.705         0     no  northwest  21984.47061\n",
       "4      32    male  28.880         0     no  northwest   3866.85520\n",
       "...   ...     ...     ...       ...    ...        ...          ...\n",
       "1333   50    male  30.970         3     no  northwest  10600.54830\n",
       "1334   18  female  31.920         0     no  northeast   2205.98080\n",
       "1335   18  female  36.850         0     no  southeast   1629.83350\n",
       "1336   21  female  25.800         0     no  southwest   2007.94500\n",
       "1337   61  female  29.070         0    yes  northwest  29141.36030\n",
       "\n",
       "[1338 rows x 7 columns]"
      ]
     },
     "execution_count": 3,
     "metadata": {},
     "output_type": "execute_result"
    }
   ],
   "source": [
    "df=pd.read_csv(\"medical_cost_insurance.csv\")\n",
    "df"
   ]
  },
  {
   "cell_type": "markdown",
   "id": "fb542e44",
   "metadata": {},
   "source": [
    "FIRST, WE ARE PERFORMING EDA ON OUR DATASETS TO GAIN A BETTER UNDERSTANDING OF OUR DATA"
   ]
  },
  {
   "cell_type": "code",
   "execution_count": 4,
   "id": "ef76075f",
   "metadata": {},
   "outputs": [
    {
     "data": {
      "text/plain": [
       "(1338, 7)"
      ]
     },
     "execution_count": 4,
     "metadata": {},
     "output_type": "execute_result"
    }
   ],
   "source": [
    "#checking the shape\n",
    "df.shape"
   ]
  },
  {
   "cell_type": "code",
   "execution_count": 5,
   "id": "b567735b",
   "metadata": {},
   "outputs": [
    {
     "data": {
      "text/plain": [
       "age           int64\n",
       "sex          object\n",
       "bmi         float64\n",
       "children      int64\n",
       "smoker       object\n",
       "region       object\n",
       "charges     float64\n",
       "dtype: object"
      ]
     },
     "execution_count": 5,
     "metadata": {},
     "output_type": "execute_result"
    }
   ],
   "source": [
    "#checking the types of our variables\n",
    "df.dtypes"
   ]
  },
  {
   "cell_type": "code",
   "execution_count": 6,
   "id": "7c1e1163",
   "metadata": {},
   "outputs": [
    {
     "data": {
      "text/html": [
       "<div>\n",
       "<style scoped>\n",
       "    .dataframe tbody tr th:only-of-type {\n",
       "        vertical-align: middle;\n",
       "    }\n",
       "\n",
       "    .dataframe tbody tr th {\n",
       "        vertical-align: top;\n",
       "    }\n",
       "\n",
       "    .dataframe thead th {\n",
       "        text-align: right;\n",
       "    }\n",
       "</style>\n",
       "<table border=\"1\" class=\"dataframe\">\n",
       "  <thead>\n",
       "    <tr style=\"text-align: right;\">\n",
       "      <th></th>\n",
       "      <th>age</th>\n",
       "      <th>sex</th>\n",
       "      <th>bmi</th>\n",
       "      <th>children</th>\n",
       "      <th>smoker</th>\n",
       "      <th>region</th>\n",
       "      <th>charges</th>\n",
       "    </tr>\n",
       "  </thead>\n",
       "  <tbody>\n",
       "    <tr>\n",
       "      <th>0</th>\n",
       "      <td>19</td>\n",
       "      <td>female</td>\n",
       "      <td>27.900</td>\n",
       "      <td>0</td>\n",
       "      <td>yes</td>\n",
       "      <td>southwest</td>\n",
       "      <td>16884.92400</td>\n",
       "    </tr>\n",
       "    <tr>\n",
       "      <th>1</th>\n",
       "      <td>18</td>\n",
       "      <td>male</td>\n",
       "      <td>33.770</td>\n",
       "      <td>1</td>\n",
       "      <td>no</td>\n",
       "      <td>southeast</td>\n",
       "      <td>1725.55230</td>\n",
       "    </tr>\n",
       "    <tr>\n",
       "      <th>2</th>\n",
       "      <td>28</td>\n",
       "      <td>male</td>\n",
       "      <td>33.000</td>\n",
       "      <td>3</td>\n",
       "      <td>no</td>\n",
       "      <td>southeast</td>\n",
       "      <td>4449.46200</td>\n",
       "    </tr>\n",
       "    <tr>\n",
       "      <th>3</th>\n",
       "      <td>33</td>\n",
       "      <td>male</td>\n",
       "      <td>22.705</td>\n",
       "      <td>0</td>\n",
       "      <td>no</td>\n",
       "      <td>northwest</td>\n",
       "      <td>21984.47061</td>\n",
       "    </tr>\n",
       "    <tr>\n",
       "      <th>4</th>\n",
       "      <td>32</td>\n",
       "      <td>male</td>\n",
       "      <td>28.880</td>\n",
       "      <td>0</td>\n",
       "      <td>no</td>\n",
       "      <td>northwest</td>\n",
       "      <td>3866.85520</td>\n",
       "    </tr>\n",
       "  </tbody>\n",
       "</table>\n",
       "</div>"
      ],
      "text/plain": [
       "   age     sex     bmi  children smoker     region      charges\n",
       "0   19  female  27.900         0    yes  southwest  16884.92400\n",
       "1   18    male  33.770         1     no  southeast   1725.55230\n",
       "2   28    male  33.000         3     no  southeast   4449.46200\n",
       "3   33    male  22.705         0     no  northwest  21984.47061\n",
       "4   32    male  28.880         0     no  northwest   3866.85520"
      ]
     },
     "execution_count": 6,
     "metadata": {},
     "output_type": "execute_result"
    }
   ],
   "source": [
    "#getting first 5 rows\n",
    "df.head()"
   ]
  },
  {
   "cell_type": "code",
   "execution_count": 7,
   "id": "699a54bd",
   "metadata": {},
   "outputs": [
    {
     "data": {
      "text/html": [
       "<div>\n",
       "<style scoped>\n",
       "    .dataframe tbody tr th:only-of-type {\n",
       "        vertical-align: middle;\n",
       "    }\n",
       "\n",
       "    .dataframe tbody tr th {\n",
       "        vertical-align: top;\n",
       "    }\n",
       "\n",
       "    .dataframe thead th {\n",
       "        text-align: right;\n",
       "    }\n",
       "</style>\n",
       "<table border=\"1\" class=\"dataframe\">\n",
       "  <thead>\n",
       "    <tr style=\"text-align: right;\">\n",
       "      <th></th>\n",
       "      <th>age</th>\n",
       "      <th>sex</th>\n",
       "      <th>bmi</th>\n",
       "      <th>children</th>\n",
       "      <th>smoker</th>\n",
       "      <th>region</th>\n",
       "      <th>charges</th>\n",
       "    </tr>\n",
       "  </thead>\n",
       "  <tbody>\n",
       "    <tr>\n",
       "      <th>1333</th>\n",
       "      <td>50</td>\n",
       "      <td>male</td>\n",
       "      <td>30.97</td>\n",
       "      <td>3</td>\n",
       "      <td>no</td>\n",
       "      <td>northwest</td>\n",
       "      <td>10600.5483</td>\n",
       "    </tr>\n",
       "    <tr>\n",
       "      <th>1334</th>\n",
       "      <td>18</td>\n",
       "      <td>female</td>\n",
       "      <td>31.92</td>\n",
       "      <td>0</td>\n",
       "      <td>no</td>\n",
       "      <td>northeast</td>\n",
       "      <td>2205.9808</td>\n",
       "    </tr>\n",
       "    <tr>\n",
       "      <th>1335</th>\n",
       "      <td>18</td>\n",
       "      <td>female</td>\n",
       "      <td>36.85</td>\n",
       "      <td>0</td>\n",
       "      <td>no</td>\n",
       "      <td>southeast</td>\n",
       "      <td>1629.8335</td>\n",
       "    </tr>\n",
       "    <tr>\n",
       "      <th>1336</th>\n",
       "      <td>21</td>\n",
       "      <td>female</td>\n",
       "      <td>25.80</td>\n",
       "      <td>0</td>\n",
       "      <td>no</td>\n",
       "      <td>southwest</td>\n",
       "      <td>2007.9450</td>\n",
       "    </tr>\n",
       "    <tr>\n",
       "      <th>1337</th>\n",
       "      <td>61</td>\n",
       "      <td>female</td>\n",
       "      <td>29.07</td>\n",
       "      <td>0</td>\n",
       "      <td>yes</td>\n",
       "      <td>northwest</td>\n",
       "      <td>29141.3603</td>\n",
       "    </tr>\n",
       "  </tbody>\n",
       "</table>\n",
       "</div>"
      ],
      "text/plain": [
       "      age     sex    bmi  children smoker     region     charges\n",
       "1333   50    male  30.97         3     no  northwest  10600.5483\n",
       "1334   18  female  31.92         0     no  northeast   2205.9808\n",
       "1335   18  female  36.85         0     no  southeast   1629.8335\n",
       "1336   21  female  25.80         0     no  southwest   2007.9450\n",
       "1337   61  female  29.07         0    yes  northwest  29141.3603"
      ]
     },
     "execution_count": 7,
     "metadata": {},
     "output_type": "execute_result"
    }
   ],
   "source": [
    "#getting last 5 rows\n",
    "df.tail()"
   ]
  },
  {
   "cell_type": "code",
   "execution_count": 8,
   "id": "879da167",
   "metadata": {},
   "outputs": [
    {
     "data": {
      "text/html": [
       "<div>\n",
       "<style scoped>\n",
       "    .dataframe tbody tr th:only-of-type {\n",
       "        vertical-align: middle;\n",
       "    }\n",
       "\n",
       "    .dataframe tbody tr th {\n",
       "        vertical-align: top;\n",
       "    }\n",
       "\n",
       "    .dataframe thead th {\n",
       "        text-align: right;\n",
       "    }\n",
       "</style>\n",
       "<table border=\"1\" class=\"dataframe\">\n",
       "  <thead>\n",
       "    <tr style=\"text-align: right;\">\n",
       "      <th></th>\n",
       "      <th>age</th>\n",
       "      <th>sex</th>\n",
       "      <th>bmi</th>\n",
       "      <th>children</th>\n",
       "      <th>smoker</th>\n",
       "      <th>region</th>\n",
       "      <th>charges</th>\n",
       "    </tr>\n",
       "  </thead>\n",
       "  <tbody>\n",
       "    <tr>\n",
       "      <th>865</th>\n",
       "      <td>40</td>\n",
       "      <td>male</td>\n",
       "      <td>29.9</td>\n",
       "      <td>2</td>\n",
       "      <td>no</td>\n",
       "      <td>southwest</td>\n",
       "      <td>6600.361</td>\n",
       "    </tr>\n",
       "  </tbody>\n",
       "</table>\n",
       "</div>"
      ],
      "text/plain": [
       "     age   sex   bmi  children smoker     region   charges\n",
       "865   40  male  29.9         2     no  southwest  6600.361"
      ]
     },
     "execution_count": 8,
     "metadata": {},
     "output_type": "execute_result"
    }
   ],
   "source": [
    "#randomly picking any row\n",
    "df.sample()"
   ]
  },
  {
   "cell_type": "code",
   "execution_count": 9,
   "id": "cb0054f5",
   "metadata": {},
   "outputs": [
    {
     "data": {
      "text/html": [
       "<div>\n",
       "<style scoped>\n",
       "    .dataframe tbody tr th:only-of-type {\n",
       "        vertical-align: middle;\n",
       "    }\n",
       "\n",
       "    .dataframe tbody tr th {\n",
       "        vertical-align: top;\n",
       "    }\n",
       "\n",
       "    .dataframe thead th {\n",
       "        text-align: right;\n",
       "    }\n",
       "</style>\n",
       "<table border=\"1\" class=\"dataframe\">\n",
       "  <thead>\n",
       "    <tr style=\"text-align: right;\">\n",
       "      <th></th>\n",
       "      <th>age</th>\n",
       "      <th>sex</th>\n",
       "      <th>bmi</th>\n",
       "      <th>children</th>\n",
       "      <th>smoker</th>\n",
       "      <th>region</th>\n",
       "      <th>charges</th>\n",
       "    </tr>\n",
       "  </thead>\n",
       "  <tbody>\n",
       "    <tr>\n",
       "      <th>1304</th>\n",
       "      <td>42</td>\n",
       "      <td>male</td>\n",
       "      <td>24.605</td>\n",
       "      <td>2</td>\n",
       "      <td>yes</td>\n",
       "      <td>northeast</td>\n",
       "      <td>21259.37795</td>\n",
       "    </tr>\n",
       "    <tr>\n",
       "      <th>791</th>\n",
       "      <td>19</td>\n",
       "      <td>male</td>\n",
       "      <td>27.600</td>\n",
       "      <td>0</td>\n",
       "      <td>no</td>\n",
       "      <td>southwest</td>\n",
       "      <td>1252.40700</td>\n",
       "    </tr>\n",
       "    <tr>\n",
       "      <th>713</th>\n",
       "      <td>20</td>\n",
       "      <td>male</td>\n",
       "      <td>40.470</td>\n",
       "      <td>0</td>\n",
       "      <td>no</td>\n",
       "      <td>northeast</td>\n",
       "      <td>1984.45330</td>\n",
       "    </tr>\n",
       "    <tr>\n",
       "      <th>1032</th>\n",
       "      <td>30</td>\n",
       "      <td>female</td>\n",
       "      <td>27.930</td>\n",
       "      <td>0</td>\n",
       "      <td>no</td>\n",
       "      <td>northeast</td>\n",
       "      <td>4137.52270</td>\n",
       "    </tr>\n",
       "  </tbody>\n",
       "</table>\n",
       "</div>"
      ],
      "text/plain": [
       "      age     sex     bmi  children smoker     region      charges\n",
       "1304   42    male  24.605         2    yes  northeast  21259.37795\n",
       "791    19    male  27.600         0     no  southwest   1252.40700\n",
       "713    20    male  40.470         0     no  northeast   1984.45330\n",
       "1032   30  female  27.930         0     no  northeast   4137.52270"
      ]
     },
     "execution_count": 9,
     "metadata": {},
     "output_type": "execute_result"
    }
   ],
   "source": [
    "#randomly picking 4 rows\n",
    "df.sample(4)"
   ]
  },
  {
   "cell_type": "code",
   "execution_count": 10,
   "id": "48e3dc39",
   "metadata": {},
   "outputs": [
    {
     "data": {
      "text/html": [
       "<div>\n",
       "<style scoped>\n",
       "    .dataframe tbody tr th:only-of-type {\n",
       "        vertical-align: middle;\n",
       "    }\n",
       "\n",
       "    .dataframe tbody tr th {\n",
       "        vertical-align: top;\n",
       "    }\n",
       "\n",
       "    .dataframe thead th {\n",
       "        text-align: right;\n",
       "    }\n",
       "</style>\n",
       "<table border=\"1\" class=\"dataframe\">\n",
       "  <thead>\n",
       "    <tr style=\"text-align: right;\">\n",
       "      <th></th>\n",
       "      <th>age</th>\n",
       "      <th>sex</th>\n",
       "      <th>bmi</th>\n",
       "      <th>children</th>\n",
       "      <th>smoker</th>\n",
       "      <th>region</th>\n",
       "      <th>charges</th>\n",
       "    </tr>\n",
       "  </thead>\n",
       "  <tbody>\n",
       "    <tr>\n",
       "      <th>0</th>\n",
       "      <td>False</td>\n",
       "      <td>False</td>\n",
       "      <td>False</td>\n",
       "      <td>False</td>\n",
       "      <td>False</td>\n",
       "      <td>False</td>\n",
       "      <td>False</td>\n",
       "    </tr>\n",
       "    <tr>\n",
       "      <th>1</th>\n",
       "      <td>False</td>\n",
       "      <td>False</td>\n",
       "      <td>False</td>\n",
       "      <td>False</td>\n",
       "      <td>False</td>\n",
       "      <td>False</td>\n",
       "      <td>False</td>\n",
       "    </tr>\n",
       "    <tr>\n",
       "      <th>2</th>\n",
       "      <td>False</td>\n",
       "      <td>False</td>\n",
       "      <td>False</td>\n",
       "      <td>False</td>\n",
       "      <td>False</td>\n",
       "      <td>False</td>\n",
       "      <td>False</td>\n",
       "    </tr>\n",
       "    <tr>\n",
       "      <th>3</th>\n",
       "      <td>False</td>\n",
       "      <td>False</td>\n",
       "      <td>False</td>\n",
       "      <td>False</td>\n",
       "      <td>False</td>\n",
       "      <td>False</td>\n",
       "      <td>False</td>\n",
       "    </tr>\n",
       "    <tr>\n",
       "      <th>4</th>\n",
       "      <td>False</td>\n",
       "      <td>False</td>\n",
       "      <td>False</td>\n",
       "      <td>False</td>\n",
       "      <td>False</td>\n",
       "      <td>False</td>\n",
       "      <td>False</td>\n",
       "    </tr>\n",
       "    <tr>\n",
       "      <th>...</th>\n",
       "      <td>...</td>\n",
       "      <td>...</td>\n",
       "      <td>...</td>\n",
       "      <td>...</td>\n",
       "      <td>...</td>\n",
       "      <td>...</td>\n",
       "      <td>...</td>\n",
       "    </tr>\n",
       "    <tr>\n",
       "      <th>1333</th>\n",
       "      <td>False</td>\n",
       "      <td>False</td>\n",
       "      <td>False</td>\n",
       "      <td>False</td>\n",
       "      <td>False</td>\n",
       "      <td>False</td>\n",
       "      <td>False</td>\n",
       "    </tr>\n",
       "    <tr>\n",
       "      <th>1334</th>\n",
       "      <td>False</td>\n",
       "      <td>False</td>\n",
       "      <td>False</td>\n",
       "      <td>False</td>\n",
       "      <td>False</td>\n",
       "      <td>False</td>\n",
       "      <td>False</td>\n",
       "    </tr>\n",
       "    <tr>\n",
       "      <th>1335</th>\n",
       "      <td>False</td>\n",
       "      <td>False</td>\n",
       "      <td>False</td>\n",
       "      <td>False</td>\n",
       "      <td>False</td>\n",
       "      <td>False</td>\n",
       "      <td>False</td>\n",
       "    </tr>\n",
       "    <tr>\n",
       "      <th>1336</th>\n",
       "      <td>False</td>\n",
       "      <td>False</td>\n",
       "      <td>False</td>\n",
       "      <td>False</td>\n",
       "      <td>False</td>\n",
       "      <td>False</td>\n",
       "      <td>False</td>\n",
       "    </tr>\n",
       "    <tr>\n",
       "      <th>1337</th>\n",
       "      <td>False</td>\n",
       "      <td>False</td>\n",
       "      <td>False</td>\n",
       "      <td>False</td>\n",
       "      <td>False</td>\n",
       "      <td>False</td>\n",
       "      <td>False</td>\n",
       "    </tr>\n",
       "  </tbody>\n",
       "</table>\n",
       "<p>1338 rows × 7 columns</p>\n",
       "</div>"
      ],
      "text/plain": [
       "        age    sex    bmi  children  smoker  region  charges\n",
       "0     False  False  False     False   False   False    False\n",
       "1     False  False  False     False   False   False    False\n",
       "2     False  False  False     False   False   False    False\n",
       "3     False  False  False     False   False   False    False\n",
       "4     False  False  False     False   False   False    False\n",
       "...     ...    ...    ...       ...     ...     ...      ...\n",
       "1333  False  False  False     False   False   False    False\n",
       "1334  False  False  False     False   False   False    False\n",
       "1335  False  False  False     False   False   False    False\n",
       "1336  False  False  False     False   False   False    False\n",
       "1337  False  False  False     False   False   False    False\n",
       "\n",
       "[1338 rows x 7 columns]"
      ]
     },
     "execution_count": 10,
     "metadata": {},
     "output_type": "execute_result"
    }
   ],
   "source": [
    "#checking if there is any null value present in our dataset or not\n",
    "df.isnull()"
   ]
  },
  {
   "cell_type": "code",
   "execution_count": 11,
   "id": "bfded861",
   "metadata": {},
   "outputs": [
    {
     "data": {
      "text/plain": [
       "age         0\n",
       "sex         0\n",
       "bmi         0\n",
       "children    0\n",
       "smoker      0\n",
       "region      0\n",
       "charges     0\n",
       "dtype: int64"
      ]
     },
     "execution_count": 11,
     "metadata": {},
     "output_type": "execute_result"
    }
   ],
   "source": [
    "df.isnull().sum()"
   ]
  },
  {
   "cell_type": "code",
   "execution_count": 12,
   "id": "68ef251c",
   "metadata": {},
   "outputs": [
    {
     "data": {
      "text/plain": [
       "<AxesSubplot:>"
      ]
     },
     "execution_count": 12,
     "metadata": {},
     "output_type": "execute_result"
    },
    {
     "data": {
      "image/png": "[encoded data removed]",
      "text/plain": [
       "<Figure size 432x288 with 2 Axes>"
      ]
     },
     "metadata": {
      "needs_background": "light"
     },
     "output_type": "display_data"
    }
   ],
   "source": [
    "sns.heatmap(df.isnull())"
   ]
  },
  {
   "cell_type": "markdown",
   "id": "3317aa04",
   "metadata": {},
   "source": [
    "we can see there is no missing data"
   ]
  },
  {
   "cell_type": "code",
   "execution_count": 13,
   "id": "9721ac15",
   "metadata": {},
   "outputs": [
    {
     "data": {
      "text/html": [
       "<div>\n",
       "<style scoped>\n",
       "    .dataframe tbody tr th:only-of-type {\n",
       "        vertical-align: middle;\n",
       "    }\n",
       "\n",
       "    .dataframe tbody tr th {\n",
       "        vertical-align: top;\n",
       "    }\n",
       "\n",
       "    .dataframe thead th {\n",
       "        text-align: right;\n",
       "    }\n",
       "</style>\n",
       "<table border=\"1\" class=\"dataframe\">\n",
       "  <thead>\n",
       "    <tr style=\"text-align: right;\">\n",
       "      <th></th>\n",
       "      <th>age</th>\n",
       "      <th>bmi</th>\n",
       "      <th>children</th>\n",
       "      <th>charges</th>\n",
       "    </tr>\n",
       "  </thead>\n",
       "  <tbody>\n",
       "    <tr>\n",
       "      <th>count</th>\n",
       "      <td>1338.000000</td>\n",
       "      <td>1338.000000</td>\n",
       "      <td>1338.000000</td>\n",
       "      <td>1338.000000</td>\n",
       "    </tr>\n",
       "    <tr>\n",
       "      <th>mean</th>\n",
       "      <td>39.207025</td>\n",
       "      <td>30.663397</td>\n",
       "      <td>1.094918</td>\n",
       "      <td>13270.422265</td>\n",
       "    </tr>\n",
       "    <tr>\n",
       "      <th>std</th>\n",
       "      <td>14.049960</td>\n",
       "      <td>6.098187</td>\n",
       "      <td>1.205493</td>\n",
       "      <td>12110.011237</td>\n",
       "    </tr>\n",
       "    <tr>\n",
       "      <th>min</th>\n",
       "      <td>18.000000</td>\n",
       "      <td>15.960000</td>\n",
       "      <td>0.000000</td>\n",
       "      <td>1121.873900</td>\n",
       "    </tr>\n",
       "    <tr>\n",
       "      <th>25%</th>\n",
       "      <td>27.000000</td>\n",
       "      <td>26.296250</td>\n",
       "      <td>0.000000</td>\n",
       "      <td>4740.287150</td>\n",
       "    </tr>\n",
       "    <tr>\n",
       "      <th>50%</th>\n",
       "      <td>39.000000</td>\n",
       "      <td>30.400000</td>\n",
       "      <td>1.000000</td>\n",
       "      <td>9382.033000</td>\n",
       "    </tr>\n",
       "    <tr>\n",
       "      <th>75%</th>\n",
       "      <td>51.000000</td>\n",
       "      <td>34.693750</td>\n",
       "      <td>2.000000</td>\n",
       "      <td>16639.912515</td>\n",
       "    </tr>\n",
       "    <tr>\n",
       "      <th>max</th>\n",
       "      <td>64.000000</td>\n",
       "      <td>53.130000</td>\n",
       "      <td>5.000000</td>\n",
       "      <td>63770.428010</td>\n",
       "    </tr>\n",
       "  </tbody>\n",
       "</table>\n",
       "</div>"
      ],
      "text/plain": [
       "               age          bmi     children       charges\n",
       "count  1338.000000  1338.000000  1338.000000   1338.000000\n",
       "mean     39.207025    30.663397     1.094918  13270.422265\n",
       "std      14.049960     6.098187     1.205493  12110.011237\n",
       "min      18.000000    15.960000     0.000000   1121.873900\n",
       "25%      27.000000    26.296250     0.000000   4740.287150\n",
       "50%      39.000000    30.400000     1.000000   9382.033000\n",
       "75%      51.000000    34.693750     2.000000  16639.912515\n",
       "max      64.000000    53.130000     5.000000  63770.428010"
      ]
     },
     "execution_count": 13,
     "metadata": {},
     "output_type": "execute_result"
    }
   ],
   "source": [
    "#statistical summary of our dataset\n",
    "df.describe()"
   ]
  },
  {
   "cell_type": "markdown",
   "id": "073f1b57",
   "metadata": {},
   "source": [
    "count row showing equal value in every column, hence there is no missing data\n",
    "\n"
   ]
  },
  {
   "cell_type": "code",
   "execution_count": 14,
   "id": "675152d3",
   "metadata": {},
   "outputs": [
    {
     "data": {
      "text/plain": [
       "age         0.055673\n",
       "bmi         0.284047\n",
       "children    0.938380\n",
       "charges     1.515880\n",
       "dtype: float64"
      ]
     },
     "execution_count": 14,
     "metadata": {},
     "output_type": "execute_result"
    }
   ],
   "source": [
    "#checking the skewness\n",
    "df.skew()"
   ]
  },
  {
   "cell_type": "code",
   "execution_count": 15,
   "id": "e7e3557f",
   "metadata": {
    "scrolled": true
   },
   "outputs": [
    {
     "data": {
      "text/plain": [
       "<AxesSubplot:>"
      ]
     },
     "execution_count": 15,
     "metadata": {},
     "output_type": "execute_result"
    },
    {
     "data": {
      "image/png": "[encoded data removed]",
      "text/plain": [
       "<Figure size 432x288 with 1 Axes>"
      ]
     },
     "metadata": {
      "needs_background": "light"
     },
     "output_type": "display_data"
    }
   ],
   "source": [
    "#checking the outliers of columns by plotting boxplot\n",
    "df['age'].plot.box()"
   ]
  },
  {
   "cell_type": "code",
   "execution_count": 16,
   "id": "bffc640f",
   "metadata": {},
   "outputs": [
    {
     "data": {
      "text/plain": [
       "<AxesSubplot:>"
      ]
     },
     "execution_count": 16,
     "metadata": {},
     "output_type": "execute_result"
    },
    {
     "data": {
      "image/png": "[encoded data removed]",
      "text/plain": [
       "<Figure size 432x288 with 1 Axes>"
      ]
     },
     "metadata": {
      "needs_background": "light"
     },
     "output_type": "display_data"
    }
   ],
   "source": [
    "df['bmi'].plot.box()"
   ]
  },
  {
   "cell_type": "code",
   "execution_count": 17,
   "id": "b7a85d50",
   "metadata": {},
   "outputs": [
    {
     "data": {
      "text/plain": [
       "<AxesSubplot:>"
      ]
     },
     "execution_count": 17,
     "metadata": {},
     "output_type": "execute_result"
    },
    {
     "data": {
      "image/png": "[encoded data removed]",
      "text/plain": [
       "<Figure size 432x288 with 1 Axes>"
      ]
     },
     "metadata": {
      "needs_background": "light"
     },
     "output_type": "display_data"
    }
   ],
   "source": [
    "df['children'].plot.box()"
   ]
  },
  {
   "cell_type": "markdown",
   "id": "52744bae",
   "metadata": {},
   "source": [
    "from here we can see skewness is present in bmi"
   ]
  },
  {
   "cell_type": "code",
   "execution_count": 18,
   "id": "362dadab",
   "metadata": {},
   "outputs": [
    {
     "data": {
      "text/plain": [
       "<seaborn.axisgrid.PairGrid at 0x21ad1782d60>"
      ]
     },
     "execution_count": 18,
     "metadata": {},
     "output_type": "execute_result"
    },
    {
     "data": {
      "image/png": "[encoded data removed]",
      "text/plain": [
       "<Figure size 720x720 with 20 Axes>"
      ]
     },
     "metadata": {
      "needs_background": "light"
     },
     "output_type": "display_data"
    }
   ],
   "source": [
    "sns.pairplot(df)"
   ]
  },
  {
   "cell_type": "code",
   "execution_count": null,
   "id": "6d81ee30",
   "metadata": {},
   "outputs": [],
   "source": [
    "dfcor=df.corr()\n",
    "dfcor"
   ]
  },
  {
   "cell_type": "code",
   "execution_count": 20,
   "id": "0ad0fa5f",
   "metadata": {},
   "outputs": [
    {
     "data": {
      "text/plain": [
       "<AxesSubplot:>"
      ]
     },
     "execution_count": 20,
     "metadata": {},
     "output_type": "execute_result"
    },
    {
     "data": {
      "image/png": "[encoded data removed]",
      "text/plain": [
       "<Figure size 432x288 with 2 Axes>"
      ]
     },
     "metadata": {
      "needs_background": "light"
     },
     "output_type": "display_data"
    }
   ],
   "source": [
    "sns.heatmap((dfcor), annot=True)"
   ]
  },
  {
   "cell_type": "markdown",
   "id": "b0faf163",
   "metadata": {},
   "source": [
    "# Now we will perform bivariate analysis to find relationship between any two variables"
   ]
  },
  {
   "cell_type": "code",
   "execution_count": 25,
   "id": "3bc1df8c",
   "metadata": {},
   "outputs": [
    {
     "data": {
      "text/plain": [
       "<function matplotlib.pyplot.show(close=None, block=None)>"
      ]
     },
     "execution_count": 25,
     "metadata": {},
     "output_type": "execute_result"
    },
    {
     "data": {
      "image/png": "[encoded data removed]",
      "text/plain": [
       "<Figure size 432x288 with 1 Axes>"
      ]
     },
     "metadata": {
      "needs_background": "light"
     },
     "output_type": "display_data"
    }
   ],
   "source": [
    "plt.scatter(df['age'], df['charges'])\n",
    "plt.show"
   ]
  },
  {
   "cell_type": "markdown",
   "id": "0479fc3b",
   "metadata": {},
   "source": [
    "This showing a positive relation kind of curve as the age increasing health insurance cost is also increasing"
   ]
  },
  {
   "cell_type": "code",
   "execution_count": 26,
   "id": "d2889224",
   "metadata": {},
   "outputs": [
    {
     "data": {
      "text/plain": [
       "<function matplotlib.pyplot.show(close=None, block=None)>"
      ]
     },
     "execution_count": 26,
     "metadata": {},
     "output_type": "execute_result"
    },
    {
     "data": {
      "image/png": "[encoded data removed]",
      "text/plain": [
       "<Figure size 432x288 with 1 Axes>"
      ]
     },
     "metadata": {
      "needs_background": "light"
     },
     "output_type": "display_data"
    }
   ],
   "source": [
    "plt.scatter(df['smoker'], df['charges'])\n",
    "plt.show"
   ]
  },
  {
   "cell_type": "code",
   "execution_count": 27,
   "id": "961c303b",
   "metadata": {},
   "outputs": [
    {
     "data": {
      "text/plain": [
       "<function matplotlib.pyplot.show(close=None, block=None)>"
      ]
     },
     "execution_count": 27,
     "metadata": {},
     "output_type": "execute_result"
    },
    {
     "data": {
      "image/png": "[encoded data removed]",
      "text/plain": [
       "<Figure size 432x288 with 1 Axes>"
      ]
     },
     "metadata": {
      "needs_background": "light"
     },
     "output_type": "display_data"
    }
   ],
   "source": [
    "plt.scatter(df['bmi'], df['charges'])\n",
    "plt.show"
   ]
  },
  {
   "cell_type": "markdown",
   "id": "40c1dc3c",
   "metadata": {},
   "source": [
    "# Data Transformation"
   ]
  },
  {
   "cell_type": "markdown",
   "id": "a5a98923",
   "metadata": {},
   "source": [
    "We do data transformation in order to change the variable so that they can be described as normal distribution"
   ]
  },
  {
   "cell_type": "code",
   "execution_count": 21,
   "id": "f1e1958f",
   "metadata": {},
   "outputs": [
    {
     "data": {
      "image/png": "[encoded data removed]",
      "text/plain": [
       "<Figure size 432x288 with 1 Axes>"
      ]
     },
     "metadata": {
      "needs_background": "light"
     },
     "output_type": "display_data"
    },
    {
     "data": {
      "image/png": "[encoded data removed]",
      "text/plain": [
       "<Figure size 432x288 with 1 Axes>"
      ]
     },
     "metadata": {
      "needs_background": "light"
     },
     "output_type": "display_data"
    }
   ],
   "source": [
    "from scipy import stats\n",
    "from scipy.stats import norm\n",
    "\n",
    "sns.distplot(df[\"charges\"],fit=norm)\n",
    "fig = plt.figure()\n",
    "res = stats.probplot(df[\"charges\"], plot=plt)"
   ]
  },
  {
   "cell_type": "markdown",
   "id": "d119ca43",
   "metadata": {},
   "source": [
    "For Cleansing of data we are using boxcox here"
   ]
  },
  {
   "cell_type": "code",
   "execution_count": 22,
   "id": "3d5cff0c",
   "metadata": {},
   "outputs": [],
   "source": [
    "from scipy.stats import boxcox\n",
    "df['charges']=boxcox(df['charges'],0)"
   ]
  },
  {
   "cell_type": "markdown",
   "id": "169ea80c",
   "metadata": {},
   "source": [
    "We have updated our “charges” category with transformed initial variable data"
   ]
  },
  {
   "cell_type": "code",
   "execution_count": 24,
   "id": "e49e3773",
   "metadata": {},
   "outputs": [
    {
     "data": {
      "text/plain": [
       "<AxesSubplot:ylabel='Frequency'>"
      ]
     },
     "execution_count": 24,
     "metadata": {},
     "output_type": "execute_result"
    },
    {
     "data": {
      "image/png": "[encoded data removed]",
      "text/plain": [
       "<Figure size 432x288 with 1 Axes>"
      ]
     },
     "metadata": {
      "needs_background": "light"
     },
     "output_type": "display_data"
    }
   ],
   "source": [
    "df['charges'].plot.hist()"
   ]
  },
  {
   "cell_type": "markdown",
   "id": "13a9b892",
   "metadata": {},
   "source": [
    "# As we have three categorical columns present in our dataframe, we first convert them into binary form(0/1)"
   ]
  },
  {
   "cell_type": "code",
   "execution_count": 28,
   "id": "e18157c4",
   "metadata": {
    "scrolled": true
   },
   "outputs": [
    {
     "data": {
      "text/plain": [
       "southeast    364\n",
       "southwest    325\n",
       "northwest    325\n",
       "northeast    324\n",
       "Name: region, dtype: int64"
      ]
     },
     "execution_count": 28,
     "metadata": {},
     "output_type": "execute_result"
    }
   ],
   "source": [
    "df['region'].value_counts()"
   ]
  },
  {
   "cell_type": "code",
   "execution_count": 31,
   "id": "502210c8",
   "metadata": {},
   "outputs": [
    {
     "data": {
      "text/plain": [
       "[Text(0.5, 1.0, 'Distribution of Region')]"
      ]
     },
     "execution_count": 31,
     "metadata": {},
     "output_type": "execute_result"
    },
    {
     "data": {
      "image/png": "[encoded data removed]",
      "text/plain": [
       "<Figure size 432x288 with 1 Axes>"
      ]
     },
     "metadata": {
      "needs_background": "light"
     },
     "output_type": "display_data"
    }
   ],
   "source": [
    "#plotting countplot to get the ratio of regions\n",
    "sns.countplot(x='region', data=df).set(title='Distribution of Region')"
   ]
  },
  {
   "cell_type": "code",
   "execution_count": 29,
   "id": "b4c56c3d",
   "metadata": {},
   "outputs": [
    {
     "data": {
      "text/plain": [
       "male      676\n",
       "female    662\n",
       "Name: sex, dtype: int64"
      ]
     },
     "execution_count": 29,
     "metadata": {},
     "output_type": "execute_result"
    }
   ],
   "source": [
    "df['sex'].value_counts()"
   ]
  },
  {
   "cell_type": "code",
   "execution_count": 32,
   "id": "3d79e159",
   "metadata": {},
   "outputs": [
    {
     "data": {
      "text/plain": [
       "[Text(0.5, 1.0, 'Distribution of Region')]"
      ]
     },
     "execution_count": 32,
     "metadata": {},
     "output_type": "execute_result"
    },
    {
     "data": {
      "image/png": "[encoded data removed]",
      "text/plain": [
       "<Figure size 432x288 with 1 Axes>"
      ]
     },
     "metadata": {
      "needs_background": "light"
     },
     "output_type": "display_data"
    }
   ],
   "source": [
    "#plotting countplot to get the ratio of regions\n",
    "sns.countplot(x='sex', data=df).set(title='Distribution of Region')"
   ]
  },
  {
   "cell_type": "code",
   "execution_count": 30,
   "id": "9f8cce7d",
   "metadata": {},
   "outputs": [
    {
     "data": {
      "text/plain": [
       "no     1064\n",
       "yes     274\n",
       "Name: smoker, dtype: int64"
      ]
     },
     "execution_count": 30,
     "metadata": {},
     "output_type": "execute_result"
    }
   ],
   "source": [
    "df['smoker'].value_counts()"
   ]
  },
  {
   "cell_type": "code",
   "execution_count": 33,
   "id": "47174f60",
   "metadata": {},
   "outputs": [
    {
     "data": {
      "text/plain": [
       "[Text(0.5, 1.0, 'Distribution of Region')]"
      ]
     },
     "execution_count": 33,
     "metadata": {},
     "output_type": "execute_result"
    },
    {
     "data": {
      "image/png": "[encoded data removed]",
      "text/plain": [
       "<Figure size 432x288 with 1 Axes>"
      ]
     },
     "metadata": {
      "needs_background": "light"
     },
     "output_type": "display_data"
    }
   ],
   "source": [
    "#plotting countplot to get the ratio of regions\n",
    "sns.countplot(x='smoker', data=df).set(title='Distribution of Region')"
   ]
  },
  {
   "cell_type": "code",
   "execution_count": 47,
   "id": "f0745561",
   "metadata": {},
   "outputs": [],
   "source": [
    "sex_copy=pd.get_dummies(df['sex'])\n",
    "smoker_copy=pd.get_dummies(df['smoker'])\n",
    "region_copy=pd.get_dummies(df['region'])\n",
    "\n",
    "df_new=pd.concat([df, sex_copy, smoker_copy, region_copy], axis=1)\n",
    "\n",
    "df_new.rename(columns={'no':'non-smoker', 'yes':'smokes'}, inplace=True)\n",
    "\n",
    "df_new=df_new.drop(['sex', 'smoker', 'region'], axis=1)"
   ]
  },
  {
   "cell_type": "code",
   "execution_count": 48,
   "id": "872b0090",
   "metadata": {
    "scrolled": false
   },
   "outputs": [
    {
     "data": {
      "text/html": [
       "<div>\n",
       "<style scoped>\n",
       "    .dataframe tbody tr th:only-of-type {\n",
       "        vertical-align: middle;\n",
       "    }\n",
       "\n",
       "    .dataframe tbody tr th {\n",
       "        vertical-align: top;\n",
       "    }\n",
       "\n",
       "    .dataframe thead th {\n",
       "        text-align: right;\n",
       "    }\n",
       "</style>\n",
       "<table border=\"1\" class=\"dataframe\">\n",
       "  <thead>\n",
       "    <tr style=\"text-align: right;\">\n",
       "      <th></th>\n",
       "      <th>age</th>\n",
       "      <th>bmi</th>\n",
       "      <th>children</th>\n",
       "      <th>charges</th>\n",
       "      <th>female</th>\n",
       "      <th>male</th>\n",
       "      <th>non-smoker</th>\n",
       "      <th>smokes</th>\n",
       "      <th>northeast</th>\n",
       "      <th>northwest</th>\n",
       "      <th>southeast</th>\n",
       "      <th>southwest</th>\n",
       "    </tr>\n",
       "  </thead>\n",
       "  <tbody>\n",
       "    <tr>\n",
       "      <th>0</th>\n",
       "      <td>19</td>\n",
       "      <td>27.900</td>\n",
       "      <td>0</td>\n",
       "      <td>9.734176</td>\n",
       "      <td>1</td>\n",
       "      <td>0</td>\n",
       "      <td>0</td>\n",
       "      <td>1</td>\n",
       "      <td>0</td>\n",
       "      <td>0</td>\n",
       "      <td>0</td>\n",
       "      <td>1</td>\n",
       "    </tr>\n",
       "    <tr>\n",
       "      <th>1</th>\n",
       "      <td>18</td>\n",
       "      <td>33.770</td>\n",
       "      <td>1</td>\n",
       "      <td>7.453302</td>\n",
       "      <td>0</td>\n",
       "      <td>1</td>\n",
       "      <td>1</td>\n",
       "      <td>0</td>\n",
       "      <td>0</td>\n",
       "      <td>0</td>\n",
       "      <td>1</td>\n",
       "      <td>0</td>\n",
       "    </tr>\n",
       "    <tr>\n",
       "      <th>2</th>\n",
       "      <td>28</td>\n",
       "      <td>33.000</td>\n",
       "      <td>3</td>\n",
       "      <td>8.400538</td>\n",
       "      <td>0</td>\n",
       "      <td>1</td>\n",
       "      <td>1</td>\n",
       "      <td>0</td>\n",
       "      <td>0</td>\n",
       "      <td>0</td>\n",
       "      <td>1</td>\n",
       "      <td>0</td>\n",
       "    </tr>\n",
       "    <tr>\n",
       "      <th>3</th>\n",
       "      <td>33</td>\n",
       "      <td>22.705</td>\n",
       "      <td>0</td>\n",
       "      <td>9.998092</td>\n",
       "      <td>0</td>\n",
       "      <td>1</td>\n",
       "      <td>1</td>\n",
       "      <td>0</td>\n",
       "      <td>0</td>\n",
       "      <td>1</td>\n",
       "      <td>0</td>\n",
       "      <td>0</td>\n",
       "    </tr>\n",
       "    <tr>\n",
       "      <th>4</th>\n",
       "      <td>32</td>\n",
       "      <td>28.880</td>\n",
       "      <td>0</td>\n",
       "      <td>8.260197</td>\n",
       "      <td>0</td>\n",
       "      <td>1</td>\n",
       "      <td>1</td>\n",
       "      <td>0</td>\n",
       "      <td>0</td>\n",
       "      <td>1</td>\n",
       "      <td>0</td>\n",
       "      <td>0</td>\n",
       "    </tr>\n",
       "    <tr>\n",
       "      <th>...</th>\n",
       "      <td>...</td>\n",
       "      <td>...</td>\n",
       "      <td>...</td>\n",
       "      <td>...</td>\n",
       "      <td>...</td>\n",
       "      <td>...</td>\n",
       "      <td>...</td>\n",
       "      <td>...</td>\n",
       "      <td>...</td>\n",
       "      <td>...</td>\n",
       "      <td>...</td>\n",
       "      <td>...</td>\n",
       "    </tr>\n",
       "    <tr>\n",
       "      <th>1333</th>\n",
       "      <td>50</td>\n",
       "      <td>30.970</td>\n",
       "      <td>3</td>\n",
       "      <td>9.268661</td>\n",
       "      <td>0</td>\n",
       "      <td>1</td>\n",
       "      <td>1</td>\n",
       "      <td>0</td>\n",
       "      <td>0</td>\n",
       "      <td>1</td>\n",
       "      <td>0</td>\n",
       "      <td>0</td>\n",
       "    </tr>\n",
       "    <tr>\n",
       "      <th>1334</th>\n",
       "      <td>18</td>\n",
       "      <td>31.920</td>\n",
       "      <td>0</td>\n",
       "      <td>7.698927</td>\n",
       "      <td>1</td>\n",
       "      <td>0</td>\n",
       "      <td>1</td>\n",
       "      <td>0</td>\n",
       "      <td>1</td>\n",
       "      <td>0</td>\n",
       "      <td>0</td>\n",
       "      <td>0</td>\n",
       "    </tr>\n",
       "    <tr>\n",
       "      <th>1335</th>\n",
       "      <td>18</td>\n",
       "      <td>36.850</td>\n",
       "      <td>0</td>\n",
       "      <td>7.396233</td>\n",
       "      <td>1</td>\n",
       "      <td>0</td>\n",
       "      <td>1</td>\n",
       "      <td>0</td>\n",
       "      <td>0</td>\n",
       "      <td>0</td>\n",
       "      <td>1</td>\n",
       "      <td>0</td>\n",
       "    </tr>\n",
       "    <tr>\n",
       "      <th>1336</th>\n",
       "      <td>21</td>\n",
       "      <td>25.800</td>\n",
       "      <td>0</td>\n",
       "      <td>7.604867</td>\n",
       "      <td>1</td>\n",
       "      <td>0</td>\n",
       "      <td>1</td>\n",
       "      <td>0</td>\n",
       "      <td>0</td>\n",
       "      <td>0</td>\n",
       "      <td>0</td>\n",
       "      <td>1</td>\n",
       "    </tr>\n",
       "    <tr>\n",
       "      <th>1337</th>\n",
       "      <td>61</td>\n",
       "      <td>29.070</td>\n",
       "      <td>0</td>\n",
       "      <td>10.279914</td>\n",
       "      <td>1</td>\n",
       "      <td>0</td>\n",
       "      <td>0</td>\n",
       "      <td>1</td>\n",
       "      <td>0</td>\n",
       "      <td>1</td>\n",
       "      <td>0</td>\n",
       "      <td>0</td>\n",
       "    </tr>\n",
       "  </tbody>\n",
       "</table>\n",
       "<p>1338 rows × 12 columns</p>\n",
       "</div>"
      ],
      "text/plain": [
       "      age     bmi  children    charges  female  male  non-smoker  smokes  \\\n",
       "0      19  27.900         0   9.734176       1     0           0       1   \n",
       "1      18  33.770         1   7.453302       0     1           1       0   \n",
       "2      28  33.000         3   8.400538       0     1           1       0   \n",
       "3      33  22.705         0   9.998092       0     1           1       0   \n",
       "4      32  28.880         0   8.260197       0     1           1       0   \n",
       "...   ...     ...       ...        ...     ...   ...         ...     ...   \n",
       "1333   50  30.970         3   9.268661       0     1           1       0   \n",
       "1334   18  31.920         0   7.698927       1     0           1       0   \n",
       "1335   18  36.850         0   7.396233       1     0           1       0   \n",
       "1336   21  25.800         0   7.604867       1     0           1       0   \n",
       "1337   61  29.070         0  10.279914       1     0           0       1   \n",
       "\n",
       "      northeast  northwest  southeast  southwest  \n",
       "0             0          0          0          1  \n",
       "1             0          0          1          0  \n",
       "2             0          0          1          0  \n",
       "3             0          1          0          0  \n",
       "4             0          1          0          0  \n",
       "...         ...        ...        ...        ...  \n",
       "1333          0          1          0          0  \n",
       "1334          1          0          0          0  \n",
       "1335          0          0          1          0  \n",
       "1336          0          0          0          1  \n",
       "1337          0          1          0          0  \n",
       "\n",
       "[1338 rows x 12 columns]"
      ]
     },
     "execution_count": 48,
     "metadata": {},
     "output_type": "execute_result"
    }
   ],
   "source": [
    "df_new"
   ]
  },
  {
   "cell_type": "code",
   "execution_count": 49,
   "id": "c0e76dfa",
   "metadata": {
    "scrolled": true
   },
   "outputs": [
    {
     "data": {
      "text/plain": [
       "age           0.055673\n",
       "bmi           0.284047\n",
       "children      0.938380\n",
       "charges      -0.090098\n",
       "female        0.020951\n",
       "male         -0.020951\n",
       "non-smoker   -1.464766\n",
       "smokes        1.464766\n",
       "northeast     1.205161\n",
       "northwest     1.200409\n",
       "southeast     1.025621\n",
       "southwest     1.200409\n",
       "dtype: float64"
      ]
     },
     "execution_count": 49,
     "metadata": {},
     "output_type": "execute_result"
    }
   ],
   "source": [
    "df_new.skew()"
   ]
  },
  {
   "cell_type": "code",
   "execution_count": 50,
   "id": "fdc8fd19",
   "metadata": {},
   "outputs": [
    {
     "data": {
      "text/html": [
       "<div>\n",
       "<style scoped>\n",
       "    .dataframe tbody tr th:only-of-type {\n",
       "        vertical-align: middle;\n",
       "    }\n",
       "\n",
       "    .dataframe tbody tr th {\n",
       "        vertical-align: top;\n",
       "    }\n",
       "\n",
       "    .dataframe thead th {\n",
       "        text-align: right;\n",
       "    }\n",
       "</style>\n",
       "<table border=\"1\" class=\"dataframe\">\n",
       "  <thead>\n",
       "    <tr style=\"text-align: right;\">\n",
       "      <th></th>\n",
       "      <th>age</th>\n",
       "      <th>bmi</th>\n",
       "      <th>children</th>\n",
       "      <th>charges</th>\n",
       "      <th>female</th>\n",
       "      <th>male</th>\n",
       "      <th>non-smoker</th>\n",
       "      <th>smokes</th>\n",
       "      <th>northeast</th>\n",
       "      <th>northwest</th>\n",
       "      <th>southeast</th>\n",
       "      <th>southwest</th>\n",
       "    </tr>\n",
       "  </thead>\n",
       "  <tbody>\n",
       "    <tr>\n",
       "      <th>0</th>\n",
       "      <td>1.438764</td>\n",
       "      <td>0.453320</td>\n",
       "      <td>0.908614</td>\n",
       "      <td>0.691394</td>\n",
       "      <td>1.010519</td>\n",
       "      <td>1.010519</td>\n",
       "      <td>1.970587</td>\n",
       "      <td>1.970587</td>\n",
       "      <td>0.565267</td>\n",
       "      <td>0.566418</td>\n",
       "      <td>0.611324</td>\n",
       "      <td>1.765481</td>\n",
       "    </tr>\n",
       "    <tr>\n",
       "      <th>1</th>\n",
       "      <td>1.509965</td>\n",
       "      <td>0.509621</td>\n",
       "      <td>0.078767</td>\n",
       "      <td>1.790020</td>\n",
       "      <td>0.989591</td>\n",
       "      <td>0.989591</td>\n",
       "      <td>0.507463</td>\n",
       "      <td>0.507463</td>\n",
       "      <td>0.565267</td>\n",
       "      <td>0.566418</td>\n",
       "      <td>1.635795</td>\n",
       "      <td>0.566418</td>\n",
       "    </tr>\n",
       "    <tr>\n",
       "      <th>2</th>\n",
       "      <td>0.797954</td>\n",
       "      <td>0.383307</td>\n",
       "      <td>1.580926</td>\n",
       "      <td>0.759500</td>\n",
       "      <td>0.989591</td>\n",
       "      <td>0.989591</td>\n",
       "      <td>0.507463</td>\n",
       "      <td>0.507463</td>\n",
       "      <td>0.565267</td>\n",
       "      <td>0.566418</td>\n",
       "      <td>1.635795</td>\n",
       "      <td>0.566418</td>\n",
       "    </tr>\n",
       "    <tr>\n",
       "      <th>3</th>\n",
       "      <td>0.441948</td>\n",
       "      <td>1.305531</td>\n",
       "      <td>0.908614</td>\n",
       "      <td>0.978513</td>\n",
       "      <td>0.989591</td>\n",
       "      <td>0.989591</td>\n",
       "      <td>0.507463</td>\n",
       "      <td>0.507463</td>\n",
       "      <td>0.565267</td>\n",
       "      <td>1.765481</td>\n",
       "      <td>0.611324</td>\n",
       "      <td>0.566418</td>\n",
       "    </tr>\n",
       "    <tr>\n",
       "      <th>4</th>\n",
       "      <td>0.513149</td>\n",
       "      <td>0.292556</td>\n",
       "      <td>0.908614</td>\n",
       "      <td>0.912181</td>\n",
       "      <td>0.989591</td>\n",
       "      <td>0.989591</td>\n",
       "      <td>0.507463</td>\n",
       "      <td>0.507463</td>\n",
       "      <td>0.565267</td>\n",
       "      <td>1.765481</td>\n",
       "      <td>0.611324</td>\n",
       "      <td>0.566418</td>\n",
       "    </tr>\n",
       "    <tr>\n",
       "      <th>...</th>\n",
       "      <td>...</td>\n",
       "      <td>...</td>\n",
       "      <td>...</td>\n",
       "      <td>...</td>\n",
       "      <td>...</td>\n",
       "      <td>...</td>\n",
       "      <td>...</td>\n",
       "      <td>...</td>\n",
       "      <td>...</td>\n",
       "      <td>...</td>\n",
       "      <td>...</td>\n",
       "      <td>...</td>\n",
       "    </tr>\n",
       "    <tr>\n",
       "      <th>1333</th>\n",
       "      <td>0.768473</td>\n",
       "      <td>0.050297</td>\n",
       "      <td>1.580926</td>\n",
       "      <td>0.184949</td>\n",
       "      <td>0.989591</td>\n",
       "      <td>0.989591</td>\n",
       "      <td>0.507463</td>\n",
       "      <td>0.507463</td>\n",
       "      <td>0.565267</td>\n",
       "      <td>1.765481</td>\n",
       "      <td>0.611324</td>\n",
       "      <td>0.566418</td>\n",
       "    </tr>\n",
       "    <tr>\n",
       "      <th>1334</th>\n",
       "      <td>1.509965</td>\n",
       "      <td>0.206139</td>\n",
       "      <td>0.908614</td>\n",
       "      <td>1.522799</td>\n",
       "      <td>1.010519</td>\n",
       "      <td>1.010519</td>\n",
       "      <td>0.507463</td>\n",
       "      <td>0.507463</td>\n",
       "      <td>1.769076</td>\n",
       "      <td>0.566418</td>\n",
       "      <td>0.611324</td>\n",
       "      <td>0.566418</td>\n",
       "    </tr>\n",
       "    <tr>\n",
       "      <th>1335</th>\n",
       "      <td>1.509965</td>\n",
       "      <td>1.014878</td>\n",
       "      <td>0.908614</td>\n",
       "      <td>1.852106</td>\n",
       "      <td>1.010519</td>\n",
       "      <td>1.010519</td>\n",
       "      <td>0.507463</td>\n",
       "      <td>0.507463</td>\n",
       "      <td>0.565267</td>\n",
       "      <td>0.566418</td>\n",
       "      <td>1.635795</td>\n",
       "      <td>0.566418</td>\n",
       "    </tr>\n",
       "    <tr>\n",
       "      <th>1336</th>\n",
       "      <td>1.296362</td>\n",
       "      <td>0.797813</td>\n",
       "      <td>0.908614</td>\n",
       "      <td>1.625129</td>\n",
       "      <td>1.010519</td>\n",
       "      <td>1.010519</td>\n",
       "      <td>0.507463</td>\n",
       "      <td>0.507463</td>\n",
       "      <td>0.565267</td>\n",
       "      <td>0.566418</td>\n",
       "      <td>0.611324</td>\n",
       "      <td>1.765481</td>\n",
       "    </tr>\n",
       "    <tr>\n",
       "      <th>1337</th>\n",
       "      <td>1.551686</td>\n",
       "      <td>0.261388</td>\n",
       "      <td>0.908614</td>\n",
       "      <td>1.285113</td>\n",
       "      <td>1.010519</td>\n",
       "      <td>1.010519</td>\n",
       "      <td>1.970587</td>\n",
       "      <td>1.970587</td>\n",
       "      <td>0.565267</td>\n",
       "      <td>1.765481</td>\n",
       "      <td>0.611324</td>\n",
       "      <td>0.566418</td>\n",
       "    </tr>\n",
       "  </tbody>\n",
       "</table>\n",
       "<p>1338 rows × 12 columns</p>\n",
       "</div>"
      ],
      "text/plain": [
       "           age       bmi  children   charges    female      male  non-smoker  \\\n",
       "0     1.438764  0.453320  0.908614  0.691394  1.010519  1.010519    1.970587   \n",
       "1     1.509965  0.509621  0.078767  1.790020  0.989591  0.989591    0.507463   \n",
       "2     0.797954  0.383307  1.580926  0.759500  0.989591  0.989591    0.507463   \n",
       "3     0.441948  1.305531  0.908614  0.978513  0.989591  0.989591    0.507463   \n",
       "4     0.513149  0.292556  0.908614  0.912181  0.989591  0.989591    0.507463   \n",
       "...        ...       ...       ...       ...       ...       ...         ...   \n",
       "1333  0.768473  0.050297  1.580926  0.184949  0.989591  0.989591    0.507463   \n",
       "1334  1.509965  0.206139  0.908614  1.522799  1.010519  1.010519    0.507463   \n",
       "1335  1.509965  1.014878  0.908614  1.852106  1.010519  1.010519    0.507463   \n",
       "1336  1.296362  0.797813  0.908614  1.625129  1.010519  1.010519    0.507463   \n",
       "1337  1.551686  0.261388  0.908614  1.285113  1.010519  1.010519    1.970587   \n",
       "\n",
       "        smokes  northeast  northwest  southeast  southwest  \n",
       "0     1.970587   0.565267   0.566418   0.611324   1.765481  \n",
       "1     0.507463   0.565267   0.566418   1.635795   0.566418  \n",
       "2     0.507463   0.565267   0.566418   1.635795   0.566418  \n",
       "3     0.507463   0.565267   1.765481   0.611324   0.566418  \n",
       "4     0.507463   0.565267   1.765481   0.611324   0.566418  \n",
       "...        ...        ...        ...        ...        ...  \n",
       "1333  0.507463   0.565267   1.765481   0.611324   0.566418  \n",
       "1334  0.507463   1.769076   0.566418   0.611324   0.566418  \n",
       "1335  0.507463   0.565267   0.566418   1.635795   0.566418  \n",
       "1336  0.507463   0.565267   0.566418   0.611324   1.765481  \n",
       "1337  1.970587   0.565267   1.765481   0.611324   0.566418  \n",
       "\n",
       "[1338 rows x 12 columns]"
      ]
     },
     "execution_count": 50,
     "metadata": {},
     "output_type": "execute_result"
    }
   ],
   "source": [
    "#removing outliers using zscore\n",
    "from scipy import stats\n",
    "from scipy.stats import zscore\n",
    "\n",
    "z=np.abs(zscore(df_new))\n",
    "z"
   ]
  },
  {
   "cell_type": "code",
   "execution_count": 51,
   "id": "64f87fa3",
   "metadata": {},
   "outputs": [
    {
     "name": "stdout",
     "output_type": "stream",
     "text": [
      "(array([  32,   71,  116,  166,  413,  425,  438,  568,  640,  847,  877,\n",
      "        932,  937,  969,  984, 1047, 1085, 1116, 1130, 1245, 1272, 1317],\n",
      "      dtype=int64), array([2, 2, 1, 2, 2, 2, 2, 2, 2, 1, 2, 2, 2, 2, 2, 1, 2, 2, 2, 2, 2, 1],\n",
      "      dtype=int64))\n"
     ]
    }
   ],
   "source": [
    "threshold=3\n",
    "print(np.where(z>3))"
   ]
  },
  {
   "cell_type": "markdown",
   "id": "5b4b4ef2",
   "metadata": {},
   "source": [
    "Removing outliers"
   ]
  },
  {
   "cell_type": "code",
   "execution_count": 52,
   "id": "891617fa",
   "metadata": {},
   "outputs": [
    {
     "data": {
      "text/html": [
       "<div>\n",
       "<style scoped>\n",
       "    .dataframe tbody tr th:only-of-type {\n",
       "        vertical-align: middle;\n",
       "    }\n",
       "\n",
       "    .dataframe tbody tr th {\n",
       "        vertical-align: top;\n",
       "    }\n",
       "\n",
       "    .dataframe thead th {\n",
       "        text-align: right;\n",
       "    }\n",
       "</style>\n",
       "<table border=\"1\" class=\"dataframe\">\n",
       "  <thead>\n",
       "    <tr style=\"text-align: right;\">\n",
       "      <th></th>\n",
       "      <th>age</th>\n",
       "      <th>bmi</th>\n",
       "      <th>children</th>\n",
       "      <th>charges</th>\n",
       "      <th>female</th>\n",
       "      <th>male</th>\n",
       "      <th>non-smoker</th>\n",
       "      <th>smokes</th>\n",
       "      <th>northeast</th>\n",
       "      <th>northwest</th>\n",
       "      <th>southeast</th>\n",
       "      <th>southwest</th>\n",
       "    </tr>\n",
       "  </thead>\n",
       "  <tbody>\n",
       "    <tr>\n",
       "      <th>0</th>\n",
       "      <td>19</td>\n",
       "      <td>27.900</td>\n",
       "      <td>0</td>\n",
       "      <td>9.734176</td>\n",
       "      <td>1</td>\n",
       "      <td>0</td>\n",
       "      <td>0</td>\n",
       "      <td>1</td>\n",
       "      <td>0</td>\n",
       "      <td>0</td>\n",
       "      <td>0</td>\n",
       "      <td>1</td>\n",
       "    </tr>\n",
       "    <tr>\n",
       "      <th>1</th>\n",
       "      <td>18</td>\n",
       "      <td>33.770</td>\n",
       "      <td>1</td>\n",
       "      <td>7.453302</td>\n",
       "      <td>0</td>\n",
       "      <td>1</td>\n",
       "      <td>1</td>\n",
       "      <td>0</td>\n",
       "      <td>0</td>\n",
       "      <td>0</td>\n",
       "      <td>1</td>\n",
       "      <td>0</td>\n",
       "    </tr>\n",
       "    <tr>\n",
       "      <th>2</th>\n",
       "      <td>28</td>\n",
       "      <td>33.000</td>\n",
       "      <td>3</td>\n",
       "      <td>8.400538</td>\n",
       "      <td>0</td>\n",
       "      <td>1</td>\n",
       "      <td>1</td>\n",
       "      <td>0</td>\n",
       "      <td>0</td>\n",
       "      <td>0</td>\n",
       "      <td>1</td>\n",
       "      <td>0</td>\n",
       "    </tr>\n",
       "    <tr>\n",
       "      <th>3</th>\n",
       "      <td>33</td>\n",
       "      <td>22.705</td>\n",
       "      <td>0</td>\n",
       "      <td>9.998092</td>\n",
       "      <td>0</td>\n",
       "      <td>1</td>\n",
       "      <td>1</td>\n",
       "      <td>0</td>\n",
       "      <td>0</td>\n",
       "      <td>1</td>\n",
       "      <td>0</td>\n",
       "      <td>0</td>\n",
       "    </tr>\n",
       "    <tr>\n",
       "      <th>4</th>\n",
       "      <td>32</td>\n",
       "      <td>28.880</td>\n",
       "      <td>0</td>\n",
       "      <td>8.260197</td>\n",
       "      <td>0</td>\n",
       "      <td>1</td>\n",
       "      <td>1</td>\n",
       "      <td>0</td>\n",
       "      <td>0</td>\n",
       "      <td>1</td>\n",
       "      <td>0</td>\n",
       "      <td>0</td>\n",
       "    </tr>\n",
       "    <tr>\n",
       "      <th>...</th>\n",
       "      <td>...</td>\n",
       "      <td>...</td>\n",
       "      <td>...</td>\n",
       "      <td>...</td>\n",
       "      <td>...</td>\n",
       "      <td>...</td>\n",
       "      <td>...</td>\n",
       "      <td>...</td>\n",
       "      <td>...</td>\n",
       "      <td>...</td>\n",
       "      <td>...</td>\n",
       "      <td>...</td>\n",
       "    </tr>\n",
       "    <tr>\n",
       "      <th>1333</th>\n",
       "      <td>50</td>\n",
       "      <td>30.970</td>\n",
       "      <td>3</td>\n",
       "      <td>9.268661</td>\n",
       "      <td>0</td>\n",
       "      <td>1</td>\n",
       "      <td>1</td>\n",
       "      <td>0</td>\n",
       "      <td>0</td>\n",
       "      <td>1</td>\n",
       "      <td>0</td>\n",
       "      <td>0</td>\n",
       "    </tr>\n",
       "    <tr>\n",
       "      <th>1334</th>\n",
       "      <td>18</td>\n",
       "      <td>31.920</td>\n",
       "      <td>0</td>\n",
       "      <td>7.698927</td>\n",
       "      <td>1</td>\n",
       "      <td>0</td>\n",
       "      <td>1</td>\n",
       "      <td>0</td>\n",
       "      <td>1</td>\n",
       "      <td>0</td>\n",
       "      <td>0</td>\n",
       "      <td>0</td>\n",
       "    </tr>\n",
       "    <tr>\n",
       "      <th>1335</th>\n",
       "      <td>18</td>\n",
       "      <td>36.850</td>\n",
       "      <td>0</td>\n",
       "      <td>7.396233</td>\n",
       "      <td>1</td>\n",
       "      <td>0</td>\n",
       "      <td>1</td>\n",
       "      <td>0</td>\n",
       "      <td>0</td>\n",
       "      <td>0</td>\n",
       "      <td>1</td>\n",
       "      <td>0</td>\n",
       "    </tr>\n",
       "    <tr>\n",
       "      <th>1336</th>\n",
       "      <td>21</td>\n",
       "      <td>25.800</td>\n",
       "      <td>0</td>\n",
       "      <td>7.604867</td>\n",
       "      <td>1</td>\n",
       "      <td>0</td>\n",
       "      <td>1</td>\n",
       "      <td>0</td>\n",
       "      <td>0</td>\n",
       "      <td>0</td>\n",
       "      <td>0</td>\n",
       "      <td>1</td>\n",
       "    </tr>\n",
       "    <tr>\n",
       "      <th>1337</th>\n",
       "      <td>61</td>\n",
       "      <td>29.070</td>\n",
       "      <td>0</td>\n",
       "      <td>10.279914</td>\n",
       "      <td>1</td>\n",
       "      <td>0</td>\n",
       "      <td>0</td>\n",
       "      <td>1</td>\n",
       "      <td>0</td>\n",
       "      <td>1</td>\n",
       "      <td>0</td>\n",
       "      <td>0</td>\n",
       "    </tr>\n",
       "  </tbody>\n",
       "</table>\n",
       "<p>1316 rows × 12 columns</p>\n",
       "</div>"
      ],
      "text/plain": [
       "      age     bmi  children    charges  female  male  non-smoker  smokes  \\\n",
       "0      19  27.900         0   9.734176       1     0           0       1   \n",
       "1      18  33.770         1   7.453302       0     1           1       0   \n",
       "2      28  33.000         3   8.400538       0     1           1       0   \n",
       "3      33  22.705         0   9.998092       0     1           1       0   \n",
       "4      32  28.880         0   8.260197       0     1           1       0   \n",
       "...   ...     ...       ...        ...     ...   ...         ...     ...   \n",
       "1333   50  30.970         3   9.268661       0     1           1       0   \n",
       "1334   18  31.920         0   7.698927       1     0           1       0   \n",
       "1335   18  36.850         0   7.396233       1     0           1       0   \n",
       "1336   21  25.800         0   7.604867       1     0           1       0   \n",
       "1337   61  29.070         0  10.279914       1     0           0       1   \n",
       "\n",
       "      northeast  northwest  southeast  southwest  \n",
       "0             0          0          0          1  \n",
       "1             0          0          1          0  \n",
       "2             0          0          1          0  \n",
       "3             0          1          0          0  \n",
       "4             0          1          0          0  \n",
       "...         ...        ...        ...        ...  \n",
       "1333          0          1          0          0  \n",
       "1334          1          0          0          0  \n",
       "1335          0          0          1          0  \n",
       "1336          0          0          0          1  \n",
       "1337          0          1          0          0  \n",
       "\n",
       "[1316 rows x 12 columns]"
      ]
     },
     "execution_count": 52,
     "metadata": {},
     "output_type": "execute_result"
    }
   ],
   "source": [
    "df_new1=df_new[(z<3).all(axis=1)]\n",
    "df_new1"
   ]
  },
  {
   "cell_type": "code",
   "execution_count": 53,
   "id": "618ff3b3",
   "metadata": {},
   "outputs": [
    {
     "data": {
      "text/plain": [
       "(1338, 12)"
      ]
     },
     "execution_count": 53,
     "metadata": {},
     "output_type": "execute_result"
    }
   ],
   "source": [
    "df_new.shape"
   ]
  },
  {
   "cell_type": "code",
   "execution_count": 55,
   "id": "e229dbb4",
   "metadata": {},
   "outputs": [
    {
     "data": {
      "text/plain": [
       "(1316, 12)"
      ]
     },
     "execution_count": 55,
     "metadata": {},
     "output_type": "execute_result"
    }
   ],
   "source": [
    "df_new1.shape"
   ]
  },
  {
   "cell_type": "markdown",
   "id": "e66ed91c",
   "metadata": {},
   "source": [
    "22 rows are deleted as outliers"
   ]
  },
  {
   "cell_type": "code",
   "execution_count": 57,
   "id": "41957faa",
   "metadata": {},
   "outputs": [
    {
     "data": {
      "text/plain": [
       "age           0.049904\n",
       "bmi           0.193564\n",
       "children      0.740881\n",
       "charges      -0.091977\n",
       "female        0.012172\n",
       "male         -0.012172\n",
       "non-smoker   -1.450367\n",
       "smokes        1.450367\n",
       "northeast     1.193964\n",
       "northwest     1.179624\n",
       "southeast     1.043061\n",
       "southwest     1.213298\n",
       "dtype: float64"
      ]
     },
     "execution_count": 57,
     "metadata": {},
     "output_type": "execute_result"
    }
   ],
   "source": [
    "df_new1.skew()"
   ]
  },
  {
   "cell_type": "code",
   "execution_count": 58,
   "id": "9455170e",
   "metadata": {},
   "outputs": [
    {
     "data": {
      "text/plain": [
       "(1316, 12)"
      ]
     },
     "execution_count": 58,
     "metadata": {},
     "output_type": "execute_result"
    }
   ],
   "source": [
    "df_new1.shape"
   ]
  },
  {
   "cell_type": "markdown",
   "id": "1207608b",
   "metadata": {},
   "source": [
    "We have eleven columns as our X/input variables and one column(Charges) as our Y/target variable."
   ]
  },
  {
   "cell_type": "code",
   "execution_count": 59,
   "id": "f243aa05",
   "metadata": {},
   "outputs": [],
   "source": [
    "x=df_new1[['age', 'bmi', 'children', 'female', 'male', 'non-smoker', 'smokes', 'northeast', 'northwest', 'southeast', 'southwest']]\n",
    "y=df_new1['charges']"
   ]
  },
  {
   "cell_type": "code",
   "execution_count": 60,
   "id": "64904db4",
   "metadata": {},
   "outputs": [
    {
     "data": {
      "text/plain": [
       "(1316, 11)"
      ]
     },
     "execution_count": 60,
     "metadata": {},
     "output_type": "execute_result"
    }
   ],
   "source": [
    "x.shape"
   ]
  },
  {
   "cell_type": "code",
   "execution_count": 61,
   "id": "321b2292",
   "metadata": {},
   "outputs": [
    {
     "data": {
      "text/plain": [
       "(1316,)"
      ]
     },
     "execution_count": 61,
     "metadata": {},
     "output_type": "execute_result"
    }
   ],
   "source": [
    "y.shape"
   ]
  },
  {
   "cell_type": "markdown",
   "id": "967f6d96",
   "metadata": {},
   "source": [
    "Now we are splitting our data into training and testing"
   ]
  },
  {
   "cell_type": "code",
   "execution_count": 62,
   "id": "34bdf249",
   "metadata": {},
   "outputs": [],
   "source": [
    "x_train, x_test, y_train, y_test=train_test_split(x,y,test_size=.33, random_state=42)"
   ]
  },
  {
   "cell_type": "code",
   "execution_count": 63,
   "id": "f634e713",
   "metadata": {},
   "outputs": [
    {
     "data": {
      "text/plain": [
       "(881, 11)"
      ]
     },
     "execution_count": 63,
     "metadata": {},
     "output_type": "execute_result"
    }
   ],
   "source": [
    "x_train.shape"
   ]
  },
  {
   "cell_type": "code",
   "execution_count": 64,
   "id": "eaf237b1",
   "metadata": {},
   "outputs": [
    {
     "data": {
      "text/plain": [
       "(881,)"
      ]
     },
     "execution_count": 64,
     "metadata": {},
     "output_type": "execute_result"
    }
   ],
   "source": [
    "y_train.shape"
   ]
  },
  {
   "cell_type": "code",
   "execution_count": 65,
   "id": "25e4bdc2",
   "metadata": {},
   "outputs": [
    {
     "data": {
      "text/plain": [
       "(435, 11)"
      ]
     },
     "execution_count": 65,
     "metadata": {},
     "output_type": "execute_result"
    }
   ],
   "source": [
    "x_test.shape"
   ]
  },
  {
   "cell_type": "code",
   "execution_count": 66,
   "id": "c541f6cb",
   "metadata": {},
   "outputs": [
    {
     "data": {
      "text/plain": [
       "(435,)"
      ]
     },
     "execution_count": 66,
     "metadata": {},
     "output_type": "execute_result"
    }
   ],
   "source": [
    "y_test.shape"
   ]
  },
  {
   "cell_type": "markdown",
   "id": "1130f7d5",
   "metadata": {},
   "source": [
    "Once our data is ready, we need to call linear regression, so to call it we need to make instance(a variable) of that particular linear regression class"
   ]
  },
  {
   "cell_type": "code",
   "execution_count": 67,
   "id": "08bd655a",
   "metadata": {},
   "outputs": [],
   "source": [
    "lm=LinearRegression()"
   ]
  },
  {
   "cell_type": "code",
   "execution_count": 68,
   "id": "8e5b12ab",
   "metadata": {},
   "outputs": [
    {
     "data": {
      "text/plain": [
       "LinearRegression()"
      ]
     },
     "execution_count": 68,
     "metadata": {},
     "output_type": "execute_result"
    }
   ],
   "source": [
    "lm.fit(x_train, y_train)"
   ]
  },
  {
   "cell_type": "markdown",
   "id": "64962394",
   "metadata": {},
   "source": [
    "These are internally calcualted coefficient value, some are +ve some are-ve, +ves are going to add in house prices and -ve coefficient are going to subtract the house prices, so all these are internally done by the coefficient."
   ]
  },
  {
   "cell_type": "code",
   "execution_count": 69,
   "id": "c634f5b5",
   "metadata": {},
   "outputs": [
    {
     "data": {
      "text/plain": [
       "array([ 0.03458542,  0.01558385,  0.10793095,  0.0418736 , -0.0418736 ,\n",
       "       -0.78653567,  0.78653567,  0.10295673,  0.02571317, -0.08505043,\n",
       "       -0.04361947])"
      ]
     },
     "execution_count": 69,
     "metadata": {},
     "output_type": "execute_result"
    }
   ],
   "source": [
    "lm.coef_"
   ]
  },
  {
   "cell_type": "code",
   "execution_count": 70,
   "id": "b134e6bd",
   "metadata": {},
   "outputs": [
    {
     "data": {
      "text/plain": [
       "7.6232295223869055"
      ]
     },
     "execution_count": 70,
     "metadata": {},
     "output_type": "execute_result"
    }
   ],
   "source": [
    "lm.intercept_"
   ]
  },
  {
   "cell_type": "code",
   "execution_count": 71,
   "id": "7c2e6659",
   "metadata": {},
   "outputs": [
    {
     "name": "stdout",
     "output_type": "stream",
     "text": [
      "            Coefficient\n",
      "age            0.034585\n",
      "bmi            0.015584\n",
      "children       0.107931\n",
      "female         0.041874\n",
      "male          -0.041874\n",
      "non-smoker    -0.786536\n",
      "smokes         0.786536\n",
      "northeast      0.102957\n",
      "northwest      0.025713\n",
      "southeast     -0.085050\n",
      "southwest     -0.043619\n"
     ]
    }
   ],
   "source": [
    "coeff_df= pd.DataFrame(lm.coef_,x.columns,\n",
    "    columns=['Coefficient'])\n",
    "\n",
    "print(coeff_df)"
   ]
  },
  {
   "cell_type": "markdown",
   "id": "7ac71268",
   "metadata": {},
   "source": [
    "We can see that from the column smokes, that people who smokes has the highest influence on medical costs calculations. On the contrary non-smokers has the highest negative impact on medical costs."
   ]
  },
  {
   "cell_type": "markdown",
   "id": "635c7805",
   "metadata": {},
   "source": [
    "Now we are checking what is the score, means how much our machine has learnt through training data."
   ]
  },
  {
   "cell_type": "code",
   "execution_count": 72,
   "id": "13e26137",
   "metadata": {},
   "outputs": [
    {
     "data": {
      "text/plain": [
       "0.7599961468341048"
      ]
     },
     "execution_count": 72,
     "metadata": {},
     "output_type": "execute_result"
    }
   ],
   "source": [
    "lm.score(x_train, y_train)"
   ]
  },
  {
   "cell_type": "markdown",
   "id": "b8dd9c9d",
   "metadata": {},
   "source": [
    "0.75 is 75%, means 75% learning is possible, 75% i have understood your data by the model linearRegression lm"
   ]
  },
  {
   "cell_type": "code",
   "execution_count": 73,
   "id": "2e7a721a",
   "metadata": {},
   "outputs": [
    {
     "name": "stdout",
     "output_type": "stream",
     "text": [
      "Predict insurance cost: [ 9.35396402  8.03663333  9.71399564  8.00352305  8.86268145  9.12941265\n",
      "  8.62407353  8.22771766  8.36271886  8.40678631  8.32384062  9.36819431\n",
      "  9.4448924   9.2916741   9.2334926   9.57947652  8.12124822  9.23467691\n",
      "  9.51845046  8.31290566  8.56115507  8.49682802 10.52865137  9.44288927\n",
      "  9.45918722  9.13436047  8.6939626   8.46161062  9.24000212  9.34993369\n",
      "  9.3051052   8.90627178  7.88207304  9.39659366  8.61177302  8.04376028\n",
      "  9.05924831  9.54494542  8.37673971  8.30765418 11.26636101  7.9887901\n",
      "  8.79059797  9.6247066  10.90172609  9.30846757  8.15923665  9.37612395\n",
      "  9.13141694  9.73966847  7.89368503  8.03135085  9.06531326  8.50486123\n",
      "  9.46374201  8.78352273 10.93089756  9.62769118 11.0637668  10.88652807\n",
      "  8.10149846  9.62662918 11.30456307  8.56832783  8.89500254  8.97872067\n",
      "  8.23897363  8.98603847  9.0981515   9.41006525  9.64143168  9.82176404\n",
      "  9.03135116  8.44623285  9.76984948  9.04878222  8.06180126  8.66170994\n",
      "  8.87787016  9.02565372  8.31597128  8.61405158 10.33586753  8.89733588\n",
      "  8.56834978  9.37160598  9.08869508  9.43027173  8.65231251  8.43684636\n",
      "  9.65548531  9.19969241  8.46897455 10.34043257  8.78083717  8.6166027\n",
      "  9.40408226  9.11776156  8.09342575  9.60230234  9.94834661  9.40053011\n",
      "  9.00154287  8.82859505  9.7044264   9.14796956  8.78973828  9.12066142\n",
      "  9.44059408 10.57000902  9.14605371  8.45846086  9.6386271  10.97303183\n",
      " 10.90683263 11.29441314  8.10044327 10.56706606  8.42263138  7.90118006\n",
      "  8.91161615  8.97066341  8.5461866  10.69516961  9.00129252  8.48299874\n",
      "  8.49817281  8.57653409  9.47873425 10.26059208  9.35371937  8.43845912\n",
      "  8.78240891  9.53071307 10.54267016  9.40802116  9.16600327  8.98466073\n",
      "  8.26320304 11.02428932  9.36134124 10.50049903  9.17592976  8.31058536\n",
      "  7.84195737  9.00220936  8.92750627  9.50616547  9.1604763   8.56373119\n",
      "  8.17600602  8.4047798   8.10246561 11.21962681 10.54312201  9.43470322\n",
      "  8.15835394  8.99569229  8.4014059  10.08921392  8.20314819  7.71688418\n",
      " 10.3914078   8.94542175  8.13138317 10.67533587 10.1779761   9.35841747\n",
      "  8.69492997 11.07912561  8.01415096  8.39241751  7.87858745  9.10308053\n",
      "  8.59604406  9.42967463  9.10987159 10.85753977  8.23723118  9.04454092\n",
      "  9.64959914 10.8937597   9.60024871  9.24166741  8.10917618 11.07243193\n",
      " 10.18439908  9.41852277  9.87409826  8.61279218  8.94635331  8.98034618\n",
      " 10.73836775  9.5578573  10.85123724  9.04954057 10.11941517  8.13796337\n",
      "  9.62466956 10.31214048  9.45706675 11.00856036  8.27789033  9.53743149\n",
      "  8.84527186  9.51506071 10.19768159  9.05989373  9.47912711  8.4486194\n",
      "  8.11450423  8.37819111  9.00852068  9.85436157  8.38005044  8.7722447\n",
      "  7.76903295  9.46042655  9.09192325  8.11841218  8.64506149  9.53725097\n",
      "  9.08477689  8.93110783  9.03834013  9.0921128  11.16577338  8.8595405\n",
      "  9.86333404  8.75748206 11.19132262  9.50231094  9.23688356  8.09865705\n",
      "  9.61493722  9.29992629  8.45786504  8.85148974  9.4158487   7.79776501\n",
      "  8.86670105  8.31785665  8.19649814  8.01260462 10.94467116  8.96209294\n",
      "  8.75669159  7.85686002  8.07779156  8.40226959  9.63366806  8.72594915\n",
      " 10.5653083   9.93467171  8.56310769  8.05129491 10.57855253  8.56224392\n",
      "  9.16002469  9.11126352  8.25397444  8.48381021  9.40331203  8.49390883\n",
      "  9.05168268  8.50275855 10.38398477  9.29932246  9.8626603   8.96329265\n",
      "  9.10362264  8.8959803   8.17102127  8.51499264 10.78818431  9.38258918\n",
      "  9.29605514 10.69921939  9.48493739  9.80970397  7.92744283  8.81643692\n",
      "  9.9108484   9.48204774  8.59914224  9.29283438  9.70320356 10.70683925\n",
      "  9.44301291  9.56339104  8.9231708   8.75808395  7.91707957  8.60556905\n",
      " 10.48146854  8.14432534  8.13052264 10.60610177 10.71852999  9.26381197\n",
      "  8.45842058  9.24708477  7.83000744  9.28027975  7.89940067  8.66653501\n",
      "  8.59364009  8.19695569 11.28107691  9.03962134  8.90711767  7.9949049\n",
      "  8.3676371   9.63146955 10.65435851  8.01032879  9.56669303  8.22586841\n",
      " 10.73797878 10.23124948  8.91670683  9.78501096  8.29334706  8.4705907\n",
      "  9.51467945  9.35622946 10.32547452  9.53809268  8.15326243  8.79019429\n",
      "  9.01876047  9.47632946  8.13521736  9.03856318 11.34284542  9.13716966\n",
      " 10.57373569 10.05766282  8.49526036  8.35727655  9.2434185   9.66709418\n",
      "  9.21245389  8.85895535  7.89793623 10.61842109  8.30418349  9.13511734\n",
      " 10.5448485   8.75657749 11.28814949  9.63427878  9.56753543  9.38538101\n",
      "  9.50209588  9.95435183  8.25594254  9.12820622  8.97335491  8.15313204\n",
      "  8.3557168   8.61616808 11.10979104  9.5488038   9.49958441  8.28668903\n",
      "  9.98015928  8.20386691 10.5226031   9.44329775  8.69505537  9.34934188\n",
      " 11.17441238  9.33364856  9.54345886 10.64608116  9.89811573  8.42751339\n",
      "  9.17606205  9.18602371  7.740043    8.41124841  7.94440846  9.41306797\n",
      "  9.03238774 10.33649346 10.20206112  9.43135933  9.53969285  8.40568463\n",
      " 10.06887901  9.38342014  9.42945179  9.00045277  8.53290382  9.4615825\n",
      " 10.73430977  8.9440298   9.12157033  8.05555166  8.53778478  8.93027705\n",
      "  8.55407116 10.94855025  8.52433945  9.32323823  9.154316    8.79678781\n",
      "  9.49662827  9.52111889  9.08878311  8.07259514  7.95436661  8.00256906\n",
      "  8.60655448  8.88171585  8.92061227  9.38283225  8.582178    8.5793085\n",
      "  9.73804639  9.17444929  8.2261049   9.63993669  9.46176399  8.01719329\n",
      "  8.94140215  8.15684609  9.83115882  9.88274855  9.02196993 10.23197558\n",
      "  8.17177439  8.37036971  9.35823597]\n",
      "Actual insurance cost: 202      9.473643\n",
      "565      7.663140\n",
      "375      9.800012\n",
      "293      7.676359\n",
      "188      8.821136\n",
      "          ...    \n",
      "560      9.126289\n",
      "587     10.690669\n",
      "1182     7.875876\n",
      "1328    10.016626\n",
      "685      9.327623\n",
      "Name: charges, Length: 435, dtype: float64\n"
     ]
    }
   ],
   "source": [
    "#predicting the value\n",
    "pred=lm.predict(x_test)\n",
    "print(\"Predict insurance cost:\", pred)\n",
    "print(\"Actual insurance cost:\", y_test)"
   ]
  },
  {
   "cell_type": "markdown",
   "id": "1487e78c",
   "metadata": {},
   "source": [
    "# model Validation"
   ]
  },
  {
   "cell_type": "code",
   "execution_count": 74,
   "id": "c9b008ae",
   "metadata": {},
   "outputs": [
    {
     "name": "stdout",
     "output_type": "stream",
     "text": [
      "error:\n",
      "mean absolute error: 0.2750179504965509\n",
      "mean squared error: 0.18657478378695022\n",
      "root mean squared error: 0.4319430330343924\n"
     ]
    }
   ],
   "source": [
    "#these are the metrices which are giving me the performance of the module\n",
    "print('error:')\n",
    "print('mean absolute error:', mean_absolute_error(y_test, pred))\n",
    "print('mean squared error:', mean_squared_error(y_test, pred))\n",
    "print('root mean squared error:', np.sqrt(mean_squared_error(y_test, pred)))"
   ]
  },
  {
   "cell_type": "code",
   "execution_count": 75,
   "id": "ed95f55c",
   "metadata": {},
   "outputs": [
    {
     "name": "stdout",
     "output_type": "stream",
     "text": [
      "0.7828602800315899\n"
     ]
    }
   ],
   "source": [
    "#r2 score -->coefficient of determination\n",
    "\n",
    "from sklearn.metrics import r2_score\n",
    "print(r2_score(y_test,pred))"
   ]
  },
  {
   "cell_type": "markdown",
   "id": "84e6f50a",
   "metadata": {},
   "source": [
    "78% change is coming in the value whenever input independent values are changed"
   ]
  }
 ],
 "metadata": {
  "kernelspec": {
   "display_name": "Python 3 (ipykernel)",
   "language": "python",
   "name": "python3"
  },
  "language_info": {
   "codemirror_mode": {
    "name": "ipython",
    "version": 3
   },
   "file_extension": ".py",
   "mimetype": "text/x-python",
   "name": "python",
   "nbconvert_exporter": "python",
   "pygments_lexer": "ipython3",
   "version": "3.9.12"
  }
 },
 "nbformat": 4,
 "nbformat_minor": 5
}
